{
  "nbformat": 4,
  "nbformat_minor": 0,
  "metadata": {
    "colab": {
      "provenance": [],
      "toc_visible": true,
      "mount_file_id": "1YCAnS5zh2jWjoriRz_Hx5i8epo0JONiq",
      "authorship_tag": "ABX9TyN1ootwhEf6qSN3ujEbyqju",
      "include_colab_link": true
    },
    "kernelspec": {
      "name": "python3",
      "display_name": "Python 3"
    },
    "language_info": {
      "name": "python"
    }
  },
  "cells": [
    {
      "cell_type": "markdown",
      "metadata": {
        "id": "view-in-github",
        "colab_type": "text"
      },
      "source": [
        "<a href=\"https://colab.research.google.com/github/Priyesh17/advanced-regression-assign/blob/main/iPrintNewsRecommendation.ipynb\" target=\"_parent\"><img src=\"https://colab.research.google.com/assets/colab-badge.svg\" alt=\"Open In Colab\"/></a>"
      ]
    },
    {
      "cell_type": "code",
      "execution_count": 3,
      "metadata": {
        "id": "awLLV-WjsR0s"
      },
      "outputs": [],
      "source": [
        "# Importing all the Required Libraries\n",
        "import pandas as pd\n",
        "import numpy as np\n",
        "import matplotlib.pyplot as plt\n",
        "import seaborn as sns\n",
        "import warnings\n",
        "warnings.filterwarnings('ignore')\n",
        "pd.set_option('display.max_columns',None)\n",
        "import os"
      ]
    },
    {
      "cell_type": "markdown",
      "source": [
        "# EDA"
      ],
      "metadata": {
        "id": "4O7CS-ZRuftq"
      }
    },
    {
      "cell_type": "markdown",
      "source": [
        "### Exploring Consumer Transaction Data"
      ],
      "metadata": {
        "id": "kyr7SUUJu8UJ"
      }
    },
    {
      "cell_type": "code",
      "source": [
        "consumer_txn_data = pd.read_csv(\"/content/drive/MyDrive/Upgrad/Capstone/data/consumer_transanctions.csv\")"
      ],
      "metadata": {
        "id": "8Yvh45GRuVmv"
      },
      "execution_count": 4,
      "outputs": []
    },
    {
      "cell_type": "code",
      "source": [
        "consumer_txn_data.head()"
      ],
      "metadata": {
        "colab": {
          "base_uri": "https://localhost:8080/",
          "height": 288
        },
        "id": "G353aworvJTa",
        "outputId": "ae68f517-4ff8-4007-a889-2afc10e582a3"
      },
      "execution_count": 5,
      "outputs": [
        {
          "output_type": "execute_result",
          "data": {
            "text/plain": [
              "   event_timestamp  interaction_type              item_id  \\\n",
              "0       1465413032   content_watched -3499919498720038879   \n",
              "1       1465412560   content_watched  8890720798209849691   \n",
              "2       1465416190   content_watched   310515487419366995   \n",
              "3       1465413895  content_followed   310515487419366995   \n",
              "4       1465412290   content_watched -7820640624231356730   \n",
              "\n",
              "           consumer_id   consumer_session_id  \\\n",
              "0 -8845298781299428018   1264196770339959068   \n",
              "1 -1032019229384696495   3621737643587579081   \n",
              "2 -1130272294246983140   2631864456530402479   \n",
              "3   344280948527967603  -3167637573980064150   \n",
              "4  -445337111692715325  561148 1178424124714   \n",
              "\n",
              "                                consumer_device_info consumer_location country  \n",
              "0                                                NaN               NaN     NaN  \n",
              "1  Mozilla/5.0 (Macintosh; Intel Mac OS X 10_11_2...                NY      US  \n",
              "2                                                NaN               NaN     NaN  \n",
              "3                                                NaN               NaN     NaN  \n",
              "4                                                NaN               NaN     NaN  "
            ],
            "text/html": [
              "\n",
              "  <div id=\"df-9b76f689-e7b7-4867-879d-81e13a3922cd\">\n",
              "    <div class=\"colab-df-container\">\n",
              "      <div>\n",
              "<style scoped>\n",
              "    .dataframe tbody tr th:only-of-type {\n",
              "        vertical-align: middle;\n",
              "    }\n",
              "\n",
              "    .dataframe tbody tr th {\n",
              "        vertical-align: top;\n",
              "    }\n",
              "\n",
              "    .dataframe thead th {\n",
              "        text-align: right;\n",
              "    }\n",
              "</style>\n",
              "<table border=\"1\" class=\"dataframe\">\n",
              "  <thead>\n",
              "    <tr style=\"text-align: right;\">\n",
              "      <th></th>\n",
              "      <th>event_timestamp</th>\n",
              "      <th>interaction_type</th>\n",
              "      <th>item_id</th>\n",
              "      <th>consumer_id</th>\n",
              "      <th>consumer_session_id</th>\n",
              "      <th>consumer_device_info</th>\n",
              "      <th>consumer_location</th>\n",
              "      <th>country</th>\n",
              "    </tr>\n",
              "  </thead>\n",
              "  <tbody>\n",
              "    <tr>\n",
              "      <th>0</th>\n",
              "      <td>1465413032</td>\n",
              "      <td>content_watched</td>\n",
              "      <td>-3499919498720038879</td>\n",
              "      <td>-8845298781299428018</td>\n",
              "      <td>1264196770339959068</td>\n",
              "      <td>NaN</td>\n",
              "      <td>NaN</td>\n",
              "      <td>NaN</td>\n",
              "    </tr>\n",
              "    <tr>\n",
              "      <th>1</th>\n",
              "      <td>1465412560</td>\n",
              "      <td>content_watched</td>\n",
              "      <td>8890720798209849691</td>\n",
              "      <td>-1032019229384696495</td>\n",
              "      <td>3621737643587579081</td>\n",
              "      <td>Mozilla/5.0 (Macintosh; Intel Mac OS X 10_11_2...</td>\n",
              "      <td>NY</td>\n",
              "      <td>US</td>\n",
              "    </tr>\n",
              "    <tr>\n",
              "      <th>2</th>\n",
              "      <td>1465416190</td>\n",
              "      <td>content_watched</td>\n",
              "      <td>310515487419366995</td>\n",
              "      <td>-1130272294246983140</td>\n",
              "      <td>2631864456530402479</td>\n",
              "      <td>NaN</td>\n",
              "      <td>NaN</td>\n",
              "      <td>NaN</td>\n",
              "    </tr>\n",
              "    <tr>\n",
              "      <th>3</th>\n",
              "      <td>1465413895</td>\n",
              "      <td>content_followed</td>\n",
              "      <td>310515487419366995</td>\n",
              "      <td>344280948527967603</td>\n",
              "      <td>-3167637573980064150</td>\n",
              "      <td>NaN</td>\n",
              "      <td>NaN</td>\n",
              "      <td>NaN</td>\n",
              "    </tr>\n",
              "    <tr>\n",
              "      <th>4</th>\n",
              "      <td>1465412290</td>\n",
              "      <td>content_watched</td>\n",
              "      <td>-7820640624231356730</td>\n",
              "      <td>-445337111692715325</td>\n",
              "      <td>561148 1178424124714</td>\n",
              "      <td>NaN</td>\n",
              "      <td>NaN</td>\n",
              "      <td>NaN</td>\n",
              "    </tr>\n",
              "  </tbody>\n",
              "</table>\n",
              "</div>\n",
              "      <button class=\"colab-df-convert\" onclick=\"convertToInteractive('df-9b76f689-e7b7-4867-879d-81e13a3922cd')\"\n",
              "              title=\"Convert this dataframe to an interactive table.\"\n",
              "              style=\"display:none;\">\n",
              "        \n",
              "  <svg xmlns=\"http://www.w3.org/2000/svg\" height=\"24px\"viewBox=\"0 0 24 24\"\n",
              "       width=\"24px\">\n",
              "    <path d=\"M0 0h24v24H0V0z\" fill=\"none\"/>\n",
              "    <path d=\"M18.56 5.44l.94 2.06.94-2.06 2.06-.94-2.06-.94-.94-2.06-.94 2.06-2.06.94zm-11 1L8.5 8.5l.94-2.06 2.06-.94-2.06-.94L8.5 2.5l-.94 2.06-2.06.94zm10 10l.94 2.06.94-2.06 2.06-.94-2.06-.94-.94-2.06-.94 2.06-2.06.94z\"/><path d=\"M17.41 7.96l-1.37-1.37c-.4-.4-.92-.59-1.43-.59-.52 0-1.04.2-1.43.59L10.3 9.45l-7.72 7.72c-.78.78-.78 2.05 0 2.83L4 21.41c.39.39.9.59 1.41.59.51 0 1.02-.2 1.41-.59l7.78-7.78 2.81-2.81c.8-.78.8-2.07 0-2.86zM5.41 20L4 18.59l7.72-7.72 1.47 1.35L5.41 20z\"/>\n",
              "  </svg>\n",
              "      </button>\n",
              "      \n",
              "  <style>\n",
              "    .colab-df-container {\n",
              "      display:flex;\n",
              "      flex-wrap:wrap;\n",
              "      gap: 12px;\n",
              "    }\n",
              "\n",
              "    .colab-df-convert {\n",
              "      background-color: #E8F0FE;\n",
              "      border: none;\n",
              "      border-radius: 50%;\n",
              "      cursor: pointer;\n",
              "      display: none;\n",
              "      fill: #1967D2;\n",
              "      height: 32px;\n",
              "      padding: 0 0 0 0;\n",
              "      width: 32px;\n",
              "    }\n",
              "\n",
              "    .colab-df-convert:hover {\n",
              "      background-color: #E2EBFA;\n",
              "      box-shadow: 0px 1px 2px rgba(60, 64, 67, 0.3), 0px 1px 3px 1px rgba(60, 64, 67, 0.15);\n",
              "      fill: #174EA6;\n",
              "    }\n",
              "\n",
              "    [theme=dark] .colab-df-convert {\n",
              "      background-color: #3B4455;\n",
              "      fill: #D2E3FC;\n",
              "    }\n",
              "\n",
              "    [theme=dark] .colab-df-convert:hover {\n",
              "      background-color: #434B5C;\n",
              "      box-shadow: 0px 1px 3px 1px rgba(0, 0, 0, 0.15);\n",
              "      filter: drop-shadow(0px 1px 2px rgba(0, 0, 0, 0.3));\n",
              "      fill: #FFFFFF;\n",
              "    }\n",
              "  </style>\n",
              "\n",
              "      <script>\n",
              "        const buttonEl =\n",
              "          document.querySelector('#df-9b76f689-e7b7-4867-879d-81e13a3922cd button.colab-df-convert');\n",
              "        buttonEl.style.display =\n",
              "          google.colab.kernel.accessAllowed ? 'block' : 'none';\n",
              "\n",
              "        async function convertToInteractive(key) {\n",
              "          const element = document.querySelector('#df-9b76f689-e7b7-4867-879d-81e13a3922cd');\n",
              "          const dataTable =\n",
              "            await google.colab.kernel.invokeFunction('convertToInteractive',\n",
              "                                                     [key], {});\n",
              "          if (!dataTable) return;\n",
              "\n",
              "          const docLinkHtml = 'Like what you see? Visit the ' +\n",
              "            '<a target=\"_blank\" href=https://colab.research.google.com/notebooks/data_table.ipynb>data table notebook</a>'\n",
              "            + ' to learn more about interactive tables.';\n",
              "          element.innerHTML = '';\n",
              "          dataTable['output_type'] = 'display_data';\n",
              "          await google.colab.output.renderOutput(dataTable, element);\n",
              "          const docLink = document.createElement('div');\n",
              "          docLink.innerHTML = docLinkHtml;\n",
              "          element.appendChild(docLink);\n",
              "        }\n",
              "      </script>\n",
              "    </div>\n",
              "  </div>\n",
              "  "
            ]
          },
          "metadata": {},
          "execution_count": 5
        }
      ]
    },
    {
      "cell_type": "code",
      "source": [
        "consumer_txn_data.shape"
      ],
      "metadata": {
        "colab": {
          "base_uri": "https://localhost:8080/"
        },
        "id": "0fX8hdWjvOvJ",
        "outputId": "d9342e0d-d76f-45f1-b155-d0506adca5cb"
      },
      "execution_count": 6,
      "outputs": [
        {
          "output_type": "execute_result",
          "data": {
            "text/plain": [
              "(72312, 8)"
            ]
          },
          "metadata": {},
          "execution_count": 6
        }
      ]
    },
    {
      "cell_type": "code",
      "source": [
        "consumer_txn_data.info()"
      ],
      "metadata": {
        "id": "yt1CE0a9vb7l",
        "colab": {
          "base_uri": "https://localhost:8080/"
        },
        "outputId": "3a346923-e359-4267-9e97-0f33fc742da5"
      },
      "execution_count": 7,
      "outputs": [
        {
          "output_type": "stream",
          "name": "stdout",
          "text": [
            "<class 'pandas.core.frame.DataFrame'>\n",
            "RangeIndex: 72312 entries, 0 to 72311\n",
            "Data columns (total 8 columns):\n",
            " #   Column                Non-Null Count  Dtype \n",
            "---  ------                --------------  ----- \n",
            " 0   event_timestamp       72312 non-null  int64 \n",
            " 1   interaction_type      72312 non-null  object\n",
            " 2   item_id               72312 non-null  int64 \n",
            " 3   consumer_id           72312 non-null  int64 \n",
            " 4   consumer_session_id   72312 non-null  object\n",
            " 5   consumer_device_info  56918 non-null  object\n",
            " 6   consumer_location     56907 non-null  object\n",
            " 7   country               56918 non-null  object\n",
            "dtypes: int64(3), object(5)\n",
            "memory usage: 4.4+ MB\n"
          ]
        }
      ]
    },
    {
      "cell_type": "code",
      "source": [
        "# dropping na rows.\n",
        "consumer_txn_data.dropna(inplace=True)"
      ],
      "metadata": {
        "id": "enykcm7E9zUr"
      },
      "execution_count": 8,
      "outputs": []
    },
    {
      "cell_type": "code",
      "source": [
        "consumer_txn_data.shape"
      ],
      "metadata": {
        "colab": {
          "base_uri": "https://localhost:8080/"
        },
        "id": "rMEOiq7OBgsy",
        "outputId": "94b68ccf-3de9-4acf-cad0-0e9b58550770"
      },
      "execution_count": 9,
      "outputs": [
        {
          "output_type": "execute_result",
          "data": {
            "text/plain": [
              "(56907, 8)"
            ]
          },
          "metadata": {},
          "execution_count": 9
        }
      ]
    },
    {
      "cell_type": "code",
      "source": [],
      "metadata": {
        "id": "mG9JIBflBmM9"
      },
      "execution_count": 9,
      "outputs": []
    },
    {
      "cell_type": "markdown",
      "source": [
        "### Exploring Platform Content Data"
      ],
      "metadata": {
        "id": "BBVml6uADJOS"
      }
    },
    {
      "cell_type": "code",
      "source": [
        "platform_content_data = pd.read_csv(\"/content/drive/MyDrive/Upgrad/Capstone/data/platform_content.csv\")"
      ],
      "metadata": {
        "id": "evPSeV7zDJOh"
      },
      "execution_count": 10,
      "outputs": []
    },
    {
      "cell_type": "code",
      "source": [
        "platform_content_data.head()"
      ],
      "metadata": {
        "colab": {
          "base_uri": "https://localhost:8080/",
          "height": 669
        },
        "outputId": "5363efcf-392c-4f8a-d454-197f646912ae",
        "id": "kh6PiorUDJOh"
      },
      "execution_count": 11,
      "outputs": [
        {
          "output_type": "execute_result",
          "data": {
            "text/plain": [
              "   event_timestamp    interaction_type              item_id  \\\n",
              "0       1459192779  content_pulled_out -6451309518266745024   \n",
              "1       1459193988     content_present -4110354420726924665   \n",
              "2       1459194146     content_present -7292285110016212249   \n",
              "3       1459194474     content_present -6151852268067518688   \n",
              "4       1459194497     content_present  2448026894306402386   \n",
              "\n",
              "           producer_id  producer_session_id producer_device_info  \\\n",
              "0  4340306774493623681  8940341205206233829                  NaN   \n",
              "1  4340306774493623681  8940341205206233829                  NaN   \n",
              "2  4340306774493623681  8940341205206233829                  NaN   \n",
              "3  3891637997717104548 -1457532940883382585                  NaN   \n",
              "4  4340306774493623681  8940341205206233829                  NaN   \n",
              "\n",
              "  producer_location producer_country item_type  \\\n",
              "0               NaN              NaN      HTML   \n",
              "1               NaN              NaN      HTML   \n",
              "2               NaN              NaN      HTML   \n",
              "3               NaN              NaN      HTML   \n",
              "4               NaN              NaN      HTML   \n",
              "\n",
              "                                            item_url  \\\n",
              "0  http://www.nytimes.com/2016/03/28/business/dea...   \n",
              "1  http://www.nytimes.com/2016/03/28/business/dea...   \n",
              "2  http://cointelegraph.com/news/bitcoin-future-w...   \n",
              "3  https://cloudplatform.googleblog.com/2016/03/G...   \n",
              "4  https://bitcoinmagazine.com/articles/ibm-wants...   \n",
              "\n",
              "                                               title  \\\n",
              "0  Ethereum, a Virtual Currency, Enables Transact...   \n",
              "1  Ethereum, a Virtual Currency, Enables Transact...   \n",
              "2  Bitcoin Future: When GBPcoin of Branson Wins O...   \n",
              "3                       Google Data Center 360° Tour   \n",
              "4  IBM Wants to \"Evolve the Internet\" With Blockc...   \n",
              "\n",
              "                                    text_description language  \n",
              "0  All of this work is still very early. The firs...       en  \n",
              "1  All of this work is still very early. The firs...       en  \n",
              "2  The alarm clock wakes me at 8:00 with stream o...       en  \n",
              "3  We're excited to share the Google Data Center ...       en  \n",
              "4  The Aite Group projects the blockchain market ...       en  "
            ],
            "text/html": [
              "\n",
              "  <div id=\"df-3d0d686b-68bc-417e-b8c6-48d738e1c059\">\n",
              "    <div class=\"colab-df-container\">\n",
              "      <div>\n",
              "<style scoped>\n",
              "    .dataframe tbody tr th:only-of-type {\n",
              "        vertical-align: middle;\n",
              "    }\n",
              "\n",
              "    .dataframe tbody tr th {\n",
              "        vertical-align: top;\n",
              "    }\n",
              "\n",
              "    .dataframe thead th {\n",
              "        text-align: right;\n",
              "    }\n",
              "</style>\n",
              "<table border=\"1\" class=\"dataframe\">\n",
              "  <thead>\n",
              "    <tr style=\"text-align: right;\">\n",
              "      <th></th>\n",
              "      <th>event_timestamp</th>\n",
              "      <th>interaction_type</th>\n",
              "      <th>item_id</th>\n",
              "      <th>producer_id</th>\n",
              "      <th>producer_session_id</th>\n",
              "      <th>producer_device_info</th>\n",
              "      <th>producer_location</th>\n",
              "      <th>producer_country</th>\n",
              "      <th>item_type</th>\n",
              "      <th>item_url</th>\n",
              "      <th>title</th>\n",
              "      <th>text_description</th>\n",
              "      <th>language</th>\n",
              "    </tr>\n",
              "  </thead>\n",
              "  <tbody>\n",
              "    <tr>\n",
              "      <th>0</th>\n",
              "      <td>1459192779</td>\n",
              "      <td>content_pulled_out</td>\n",
              "      <td>-6451309518266745024</td>\n",
              "      <td>4340306774493623681</td>\n",
              "      <td>8940341205206233829</td>\n",
              "      <td>NaN</td>\n",
              "      <td>NaN</td>\n",
              "      <td>NaN</td>\n",
              "      <td>HTML</td>\n",
              "      <td>http://www.nytimes.com/2016/03/28/business/dea...</td>\n",
              "      <td>Ethereum, a Virtual Currency, Enables Transact...</td>\n",
              "      <td>All of this work is still very early. The firs...</td>\n",
              "      <td>en</td>\n",
              "    </tr>\n",
              "    <tr>\n",
              "      <th>1</th>\n",
              "      <td>1459193988</td>\n",
              "      <td>content_present</td>\n",
              "      <td>-4110354420726924665</td>\n",
              "      <td>4340306774493623681</td>\n",
              "      <td>8940341205206233829</td>\n",
              "      <td>NaN</td>\n",
              "      <td>NaN</td>\n",
              "      <td>NaN</td>\n",
              "      <td>HTML</td>\n",
              "      <td>http://www.nytimes.com/2016/03/28/business/dea...</td>\n",
              "      <td>Ethereum, a Virtual Currency, Enables Transact...</td>\n",
              "      <td>All of this work is still very early. The firs...</td>\n",
              "      <td>en</td>\n",
              "    </tr>\n",
              "    <tr>\n",
              "      <th>2</th>\n",
              "      <td>1459194146</td>\n",
              "      <td>content_present</td>\n",
              "      <td>-7292285110016212249</td>\n",
              "      <td>4340306774493623681</td>\n",
              "      <td>8940341205206233829</td>\n",
              "      <td>NaN</td>\n",
              "      <td>NaN</td>\n",
              "      <td>NaN</td>\n",
              "      <td>HTML</td>\n",
              "      <td>http://cointelegraph.com/news/bitcoin-future-w...</td>\n",
              "      <td>Bitcoin Future: When GBPcoin of Branson Wins O...</td>\n",
              "      <td>The alarm clock wakes me at 8:00 with stream o...</td>\n",
              "      <td>en</td>\n",
              "    </tr>\n",
              "    <tr>\n",
              "      <th>3</th>\n",
              "      <td>1459194474</td>\n",
              "      <td>content_present</td>\n",
              "      <td>-6151852268067518688</td>\n",
              "      <td>3891637997717104548</td>\n",
              "      <td>-1457532940883382585</td>\n",
              "      <td>NaN</td>\n",
              "      <td>NaN</td>\n",
              "      <td>NaN</td>\n",
              "      <td>HTML</td>\n",
              "      <td>https://cloudplatform.googleblog.com/2016/03/G...</td>\n",
              "      <td>Google Data Center 360° Tour</td>\n",
              "      <td>We're excited to share the Google Data Center ...</td>\n",
              "      <td>en</td>\n",
              "    </tr>\n",
              "    <tr>\n",
              "      <th>4</th>\n",
              "      <td>1459194497</td>\n",
              "      <td>content_present</td>\n",
              "      <td>2448026894306402386</td>\n",
              "      <td>4340306774493623681</td>\n",
              "      <td>8940341205206233829</td>\n",
              "      <td>NaN</td>\n",
              "      <td>NaN</td>\n",
              "      <td>NaN</td>\n",
              "      <td>HTML</td>\n",
              "      <td>https://bitcoinmagazine.com/articles/ibm-wants...</td>\n",
              "      <td>IBM Wants to \"Evolve the Internet\" With Blockc...</td>\n",
              "      <td>The Aite Group projects the blockchain market ...</td>\n",
              "      <td>en</td>\n",
              "    </tr>\n",
              "  </tbody>\n",
              "</table>\n",
              "</div>\n",
              "      <button class=\"colab-df-convert\" onclick=\"convertToInteractive('df-3d0d686b-68bc-417e-b8c6-48d738e1c059')\"\n",
              "              title=\"Convert this dataframe to an interactive table.\"\n",
              "              style=\"display:none;\">\n",
              "        \n",
              "  <svg xmlns=\"http://www.w3.org/2000/svg\" height=\"24px\"viewBox=\"0 0 24 24\"\n",
              "       width=\"24px\">\n",
              "    <path d=\"M0 0h24v24H0V0z\" fill=\"none\"/>\n",
              "    <path d=\"M18.56 5.44l.94 2.06.94-2.06 2.06-.94-2.06-.94-.94-2.06-.94 2.06-2.06.94zm-11 1L8.5 8.5l.94-2.06 2.06-.94-2.06-.94L8.5 2.5l-.94 2.06-2.06.94zm10 10l.94 2.06.94-2.06 2.06-.94-2.06-.94-.94-2.06-.94 2.06-2.06.94z\"/><path d=\"M17.41 7.96l-1.37-1.37c-.4-.4-.92-.59-1.43-.59-.52 0-1.04.2-1.43.59L10.3 9.45l-7.72 7.72c-.78.78-.78 2.05 0 2.83L4 21.41c.39.39.9.59 1.41.59.51 0 1.02-.2 1.41-.59l7.78-7.78 2.81-2.81c.8-.78.8-2.07 0-2.86zM5.41 20L4 18.59l7.72-7.72 1.47 1.35L5.41 20z\"/>\n",
              "  </svg>\n",
              "      </button>\n",
              "      \n",
              "  <style>\n",
              "    .colab-df-container {\n",
              "      display:flex;\n",
              "      flex-wrap:wrap;\n",
              "      gap: 12px;\n",
              "    }\n",
              "\n",
              "    .colab-df-convert {\n",
              "      background-color: #E8F0FE;\n",
              "      border: none;\n",
              "      border-radius: 50%;\n",
              "      cursor: pointer;\n",
              "      display: none;\n",
              "      fill: #1967D2;\n",
              "      height: 32px;\n",
              "      padding: 0 0 0 0;\n",
              "      width: 32px;\n",
              "    }\n",
              "\n",
              "    .colab-df-convert:hover {\n",
              "      background-color: #E2EBFA;\n",
              "      box-shadow: 0px 1px 2px rgba(60, 64, 67, 0.3), 0px 1px 3px 1px rgba(60, 64, 67, 0.15);\n",
              "      fill: #174EA6;\n",
              "    }\n",
              "\n",
              "    [theme=dark] .colab-df-convert {\n",
              "      background-color: #3B4455;\n",
              "      fill: #D2E3FC;\n",
              "    }\n",
              "\n",
              "    [theme=dark] .colab-df-convert:hover {\n",
              "      background-color: #434B5C;\n",
              "      box-shadow: 0px 1px 3px 1px rgba(0, 0, 0, 0.15);\n",
              "      filter: drop-shadow(0px 1px 2px rgba(0, 0, 0, 0.3));\n",
              "      fill: #FFFFFF;\n",
              "    }\n",
              "  </style>\n",
              "\n",
              "      <script>\n",
              "        const buttonEl =\n",
              "          document.querySelector('#df-3d0d686b-68bc-417e-b8c6-48d738e1c059 button.colab-df-convert');\n",
              "        buttonEl.style.display =\n",
              "          google.colab.kernel.accessAllowed ? 'block' : 'none';\n",
              "\n",
              "        async function convertToInteractive(key) {\n",
              "          const element = document.querySelector('#df-3d0d686b-68bc-417e-b8c6-48d738e1c059');\n",
              "          const dataTable =\n",
              "            await google.colab.kernel.invokeFunction('convertToInteractive',\n",
              "                                                     [key], {});\n",
              "          if (!dataTable) return;\n",
              "\n",
              "          const docLinkHtml = 'Like what you see? Visit the ' +\n",
              "            '<a target=\"_blank\" href=https://colab.research.google.com/notebooks/data_table.ipynb>data table notebook</a>'\n",
              "            + ' to learn more about interactive tables.';\n",
              "          element.innerHTML = '';\n",
              "          dataTable['output_type'] = 'display_data';\n",
              "          await google.colab.output.renderOutput(dataTable, element);\n",
              "          const docLink = document.createElement('div');\n",
              "          docLink.innerHTML = docLinkHtml;\n",
              "          element.appendChild(docLink);\n",
              "        }\n",
              "      </script>\n",
              "    </div>\n",
              "  </div>\n",
              "  "
            ]
          },
          "metadata": {},
          "execution_count": 11
        }
      ]
    },
    {
      "cell_type": "code",
      "source": [
        "platform_content_data.shape"
      ],
      "metadata": {
        "colab": {
          "base_uri": "https://localhost:8080/"
        },
        "outputId": "bce77c12-9f95-4713-b0bb-f920b66583f9",
        "id": "58vFc0UNDJOi"
      },
      "execution_count": 12,
      "outputs": [
        {
          "output_type": "execute_result",
          "data": {
            "text/plain": [
              "(3122, 13)"
            ]
          },
          "metadata": {},
          "execution_count": 12
        }
      ]
    },
    {
      "cell_type": "code",
      "source": [
        "platform_content_data.info()"
      ],
      "metadata": {
        "colab": {
          "base_uri": "https://localhost:8080/"
        },
        "outputId": "17235046-0ba7-452c-8699-fd9c41858ead",
        "id": "iZy6TvmpDJOi"
      },
      "execution_count": 13,
      "outputs": [
        {
          "output_type": "stream",
          "name": "stdout",
          "text": [
            "<class 'pandas.core.frame.DataFrame'>\n",
            "RangeIndex: 3122 entries, 0 to 3121\n",
            "Data columns (total 13 columns):\n",
            " #   Column                Non-Null Count  Dtype \n",
            "---  ------                --------------  ----- \n",
            " 0   event_timestamp       3122 non-null   int64 \n",
            " 1   interaction_type      3122 non-null   object\n",
            " 2   item_id               3122 non-null   int64 \n",
            " 3   producer_id           3122 non-null   int64 \n",
            " 4   producer_session_id   3122 non-null   int64 \n",
            " 5   producer_device_info  680 non-null    object\n",
            " 6   producer_location     680 non-null    object\n",
            " 7   producer_country      680 non-null    object\n",
            " 8   item_type             3122 non-null   object\n",
            " 9   item_url              3122 non-null   object\n",
            " 10  title                 3122 non-null   object\n",
            " 11  text_description      3122 non-null   object\n",
            " 12  language              3122 non-null   object\n",
            "dtypes: int64(4), object(9)\n",
            "memory usage: 317.2+ KB\n"
          ]
        }
      ]
    },
    {
      "cell_type": "markdown",
      "source": [
        "### Joining both data frames and create concatenated df"
      ],
      "metadata": {
        "id": "hmH76mGBOzqQ"
      }
    },
    {
      "cell_type": "code",
      "source": [
        "merged_df = pd.merge(consumer_txn_data, platform_content_data, on=\"item_id\")"
      ],
      "metadata": {
        "id": "gzJv8vVDDJOi"
      },
      "execution_count": 14,
      "outputs": []
    },
    {
      "cell_type": "code",
      "source": [
        "merged_df.shape"
      ],
      "metadata": {
        "colab": {
          "base_uri": "https://localhost:8080/"
        },
        "id": "QbRWdRXFPSBu",
        "outputId": "b3efe800-bc96-44b0-e6e5-f19d850f306b"
      },
      "execution_count": 15,
      "outputs": [
        {
          "output_type": "execute_result",
          "data": {
            "text/plain": [
              "(57173, 20)"
            ]
          },
          "metadata": {},
          "execution_count": 15
        }
      ]
    },
    {
      "cell_type": "code",
      "source": [
        "merged_df.head()"
      ],
      "metadata": {
        "colab": {
          "base_uri": "https://localhost:8080/",
          "height": 531
        },
        "id": "xTBi9iO0PWUg",
        "outputId": "81b59783-09fd-4e18-c88d-0504efe2245a"
      },
      "execution_count": 16,
      "outputs": [
        {
          "output_type": "execute_result",
          "data": {
            "text/plain": [
              "   event_timestamp_x interaction_type_x              item_id  \\\n",
              "0         1465412560    content_watched  8890720798209849691   \n",
              "1         1465494988    content_watched  8890720798209849691   \n",
              "2         1465497481    content_watched  8890720798209849691   \n",
              "3         1465424462    content_watched  8890720798209849691   \n",
              "4         1465243741    content_watched  8890720798209849691   \n",
              "\n",
              "           consumer_id   consumer_session_id  \\\n",
              "0 -1032019229384696495   3621737643587579081   \n",
              "1 -8550167523008133722  -3735424447737208513   \n",
              "2 -1032019229384696495    -67483630648809830   \n",
              "3 -2626634673110551643  -2308295175602041644   \n",
              "4  7438444945156715220   6722428474978740173   \n",
              "\n",
              "                                consumer_device_info consumer_location  \\\n",
              "0  Mozilla/5.0 (Macintosh; Intel Mac OS X 10_11_2...                NY   \n",
              "1  Mozilla/5.0 (Macintosh; Intel Mac OS X 10_11_5...                SP   \n",
              "2  Mozilla/5.0 (Macintosh; Intel Mac OS X 10_11_2...                NY   \n",
              "3  Mozilla/5.0 (Macintosh; Intel Mac OS X 10_11_4...                GA   \n",
              "4  Mozilla/5.0 (Macintosh; Intel Mac OS X 10_11_3...                SP   \n",
              "\n",
              "  country  event_timestamp_y interaction_type_y          producer_id  \\\n",
              "0      US         1465223368    content_present  1895326251577378793   \n",
              "1      BR         1465223368    content_present  1895326251577378793   \n",
              "2      US         1465223368    content_present  1895326251577378793   \n",
              "3      US         1465223368    content_present  1895326251577378793   \n",
              "4      BR         1465223368    content_present  1895326251577378793   \n",
              "\n",
              "   producer_session_id producer_device_info producer_location  \\\n",
              "0 -1847389231177111235                  NaN               NaN   \n",
              "1 -1847389231177111235                  NaN               NaN   \n",
              "2 -1847389231177111235                  NaN               NaN   \n",
              "3 -1847389231177111235                  NaN               NaN   \n",
              "4 -1847389231177111235                  NaN               NaN   \n",
              "\n",
              "  producer_country item_type  \\\n",
              "0              NaN      HTML   \n",
              "1              NaN      HTML   \n",
              "2              NaN      HTML   \n",
              "3              NaN      HTML   \n",
              "4              NaN      HTML   \n",
              "\n",
              "                                            item_url  \\\n",
              "0  https://www.nngroup.com/articles/top-intranet-...   \n",
              "1  https://www.nngroup.com/articles/top-intranet-...   \n",
              "2  https://www.nngroup.com/articles/top-intranet-...   \n",
              "3  https://www.nngroup.com/articles/top-intranet-...   \n",
              "4  https://www.nngroup.com/articles/top-intranet-...   \n",
              "\n",
              "                            title  \\\n",
              "0  Top 10 Intranet Trends of 2016   \n",
              "1  Top 10 Intranet Trends of 2016   \n",
              "2  Top 10 Intranet Trends of 2016   \n",
              "3  Top 10 Intranet Trends of 2016   \n",
              "4  Top 10 Intranet Trends of 2016   \n",
              "\n",
              "                                    text_description language  \n",
              "0  Summary: Hero images, carousels, fat footers, ...       en  \n",
              "1  Summary: Hero images, carousels, fat footers, ...       en  \n",
              "2  Summary: Hero images, carousels, fat footers, ...       en  \n",
              "3  Summary: Hero images, carousels, fat footers, ...       en  \n",
              "4  Summary: Hero images, carousels, fat footers, ...       en  "
            ],
            "text/html": [
              "\n",
              "  <div id=\"df-6d4da54a-6702-41b0-9c56-d5503b41c983\">\n",
              "    <div class=\"colab-df-container\">\n",
              "      <div>\n",
              "<style scoped>\n",
              "    .dataframe tbody tr th:only-of-type {\n",
              "        vertical-align: middle;\n",
              "    }\n",
              "\n",
              "    .dataframe tbody tr th {\n",
              "        vertical-align: top;\n",
              "    }\n",
              "\n",
              "    .dataframe thead th {\n",
              "        text-align: right;\n",
              "    }\n",
              "</style>\n",
              "<table border=\"1\" class=\"dataframe\">\n",
              "  <thead>\n",
              "    <tr style=\"text-align: right;\">\n",
              "      <th></th>\n",
              "      <th>event_timestamp_x</th>\n",
              "      <th>interaction_type_x</th>\n",
              "      <th>item_id</th>\n",
              "      <th>consumer_id</th>\n",
              "      <th>consumer_session_id</th>\n",
              "      <th>consumer_device_info</th>\n",
              "      <th>consumer_location</th>\n",
              "      <th>country</th>\n",
              "      <th>event_timestamp_y</th>\n",
              "      <th>interaction_type_y</th>\n",
              "      <th>producer_id</th>\n",
              "      <th>producer_session_id</th>\n",
              "      <th>producer_device_info</th>\n",
              "      <th>producer_location</th>\n",
              "      <th>producer_country</th>\n",
              "      <th>item_type</th>\n",
              "      <th>item_url</th>\n",
              "      <th>title</th>\n",
              "      <th>text_description</th>\n",
              "      <th>language</th>\n",
              "    </tr>\n",
              "  </thead>\n",
              "  <tbody>\n",
              "    <tr>\n",
              "      <th>0</th>\n",
              "      <td>1465412560</td>\n",
              "      <td>content_watched</td>\n",
              "      <td>8890720798209849691</td>\n",
              "      <td>-1032019229384696495</td>\n",
              "      <td>3621737643587579081</td>\n",
              "      <td>Mozilla/5.0 (Macintosh; Intel Mac OS X 10_11_2...</td>\n",
              "      <td>NY</td>\n",
              "      <td>US</td>\n",
              "      <td>1465223368</td>\n",
              "      <td>content_present</td>\n",
              "      <td>1895326251577378793</td>\n",
              "      <td>-1847389231177111235</td>\n",
              "      <td>NaN</td>\n",
              "      <td>NaN</td>\n",
              "      <td>NaN</td>\n",
              "      <td>HTML</td>\n",
              "      <td>https://www.nngroup.com/articles/top-intranet-...</td>\n",
              "      <td>Top 10 Intranet Trends of 2016</td>\n",
              "      <td>Summary: Hero images, carousels, fat footers, ...</td>\n",
              "      <td>en</td>\n",
              "    </tr>\n",
              "    <tr>\n",
              "      <th>1</th>\n",
              "      <td>1465494988</td>\n",
              "      <td>content_watched</td>\n",
              "      <td>8890720798209849691</td>\n",
              "      <td>-8550167523008133722</td>\n",
              "      <td>-3735424447737208513</td>\n",
              "      <td>Mozilla/5.0 (Macintosh; Intel Mac OS X 10_11_5...</td>\n",
              "      <td>SP</td>\n",
              "      <td>BR</td>\n",
              "      <td>1465223368</td>\n",
              "      <td>content_present</td>\n",
              "      <td>1895326251577378793</td>\n",
              "      <td>-1847389231177111235</td>\n",
              "      <td>NaN</td>\n",
              "      <td>NaN</td>\n",
              "      <td>NaN</td>\n",
              "      <td>HTML</td>\n",
              "      <td>https://www.nngroup.com/articles/top-intranet-...</td>\n",
              "      <td>Top 10 Intranet Trends of 2016</td>\n",
              "      <td>Summary: Hero images, carousels, fat footers, ...</td>\n",
              "      <td>en</td>\n",
              "    </tr>\n",
              "    <tr>\n",
              "      <th>2</th>\n",
              "      <td>1465497481</td>\n",
              "      <td>content_watched</td>\n",
              "      <td>8890720798209849691</td>\n",
              "      <td>-1032019229384696495</td>\n",
              "      <td>-67483630648809830</td>\n",
              "      <td>Mozilla/5.0 (Macintosh; Intel Mac OS X 10_11_2...</td>\n",
              "      <td>NY</td>\n",
              "      <td>US</td>\n",
              "      <td>1465223368</td>\n",
              "      <td>content_present</td>\n",
              "      <td>1895326251577378793</td>\n",
              "      <td>-1847389231177111235</td>\n",
              "      <td>NaN</td>\n",
              "      <td>NaN</td>\n",
              "      <td>NaN</td>\n",
              "      <td>HTML</td>\n",
              "      <td>https://www.nngroup.com/articles/top-intranet-...</td>\n",
              "      <td>Top 10 Intranet Trends of 2016</td>\n",
              "      <td>Summary: Hero images, carousels, fat footers, ...</td>\n",
              "      <td>en</td>\n",
              "    </tr>\n",
              "    <tr>\n",
              "      <th>3</th>\n",
              "      <td>1465424462</td>\n",
              "      <td>content_watched</td>\n",
              "      <td>8890720798209849691</td>\n",
              "      <td>-2626634673110551643</td>\n",
              "      <td>-2308295175602041644</td>\n",
              "      <td>Mozilla/5.0 (Macintosh; Intel Mac OS X 10_11_4...</td>\n",
              "      <td>GA</td>\n",
              "      <td>US</td>\n",
              "      <td>1465223368</td>\n",
              "      <td>content_present</td>\n",
              "      <td>1895326251577378793</td>\n",
              "      <td>-1847389231177111235</td>\n",
              "      <td>NaN</td>\n",
              "      <td>NaN</td>\n",
              "      <td>NaN</td>\n",
              "      <td>HTML</td>\n",
              "      <td>https://www.nngroup.com/articles/top-intranet-...</td>\n",
              "      <td>Top 10 Intranet Trends of 2016</td>\n",
              "      <td>Summary: Hero images, carousels, fat footers, ...</td>\n",
              "      <td>en</td>\n",
              "    </tr>\n",
              "    <tr>\n",
              "      <th>4</th>\n",
              "      <td>1465243741</td>\n",
              "      <td>content_watched</td>\n",
              "      <td>8890720798209849691</td>\n",
              "      <td>7438444945156715220</td>\n",
              "      <td>6722428474978740173</td>\n",
              "      <td>Mozilla/5.0 (Macintosh; Intel Mac OS X 10_11_3...</td>\n",
              "      <td>SP</td>\n",
              "      <td>BR</td>\n",
              "      <td>1465223368</td>\n",
              "      <td>content_present</td>\n",
              "      <td>1895326251577378793</td>\n",
              "      <td>-1847389231177111235</td>\n",
              "      <td>NaN</td>\n",
              "      <td>NaN</td>\n",
              "      <td>NaN</td>\n",
              "      <td>HTML</td>\n",
              "      <td>https://www.nngroup.com/articles/top-intranet-...</td>\n",
              "      <td>Top 10 Intranet Trends of 2016</td>\n",
              "      <td>Summary: Hero images, carousels, fat footers, ...</td>\n",
              "      <td>en</td>\n",
              "    </tr>\n",
              "  </tbody>\n",
              "</table>\n",
              "</div>\n",
              "      <button class=\"colab-df-convert\" onclick=\"convertToInteractive('df-6d4da54a-6702-41b0-9c56-d5503b41c983')\"\n",
              "              title=\"Convert this dataframe to an interactive table.\"\n",
              "              style=\"display:none;\">\n",
              "        \n",
              "  <svg xmlns=\"http://www.w3.org/2000/svg\" height=\"24px\"viewBox=\"0 0 24 24\"\n",
              "       width=\"24px\">\n",
              "    <path d=\"M0 0h24v24H0V0z\" fill=\"none\"/>\n",
              "    <path d=\"M18.56 5.44l.94 2.06.94-2.06 2.06-.94-2.06-.94-.94-2.06-.94 2.06-2.06.94zm-11 1L8.5 8.5l.94-2.06 2.06-.94-2.06-.94L8.5 2.5l-.94 2.06-2.06.94zm10 10l.94 2.06.94-2.06 2.06-.94-2.06-.94-.94-2.06-.94 2.06-2.06.94z\"/><path d=\"M17.41 7.96l-1.37-1.37c-.4-.4-.92-.59-1.43-.59-.52 0-1.04.2-1.43.59L10.3 9.45l-7.72 7.72c-.78.78-.78 2.05 0 2.83L4 21.41c.39.39.9.59 1.41.59.51 0 1.02-.2 1.41-.59l7.78-7.78 2.81-2.81c.8-.78.8-2.07 0-2.86zM5.41 20L4 18.59l7.72-7.72 1.47 1.35L5.41 20z\"/>\n",
              "  </svg>\n",
              "      </button>\n",
              "      \n",
              "  <style>\n",
              "    .colab-df-container {\n",
              "      display:flex;\n",
              "      flex-wrap:wrap;\n",
              "      gap: 12px;\n",
              "    }\n",
              "\n",
              "    .colab-df-convert {\n",
              "      background-color: #E8F0FE;\n",
              "      border: none;\n",
              "      border-radius: 50%;\n",
              "      cursor: pointer;\n",
              "      display: none;\n",
              "      fill: #1967D2;\n",
              "      height: 32px;\n",
              "      padding: 0 0 0 0;\n",
              "      width: 32px;\n",
              "    }\n",
              "\n",
              "    .colab-df-convert:hover {\n",
              "      background-color: #E2EBFA;\n",
              "      box-shadow: 0px 1px 2px rgba(60, 64, 67, 0.3), 0px 1px 3px 1px rgba(60, 64, 67, 0.15);\n",
              "      fill: #174EA6;\n",
              "    }\n",
              "\n",
              "    [theme=dark] .colab-df-convert {\n",
              "      background-color: #3B4455;\n",
              "      fill: #D2E3FC;\n",
              "    }\n",
              "\n",
              "    [theme=dark] .colab-df-convert:hover {\n",
              "      background-color: #434B5C;\n",
              "      box-shadow: 0px 1px 3px 1px rgba(0, 0, 0, 0.15);\n",
              "      filter: drop-shadow(0px 1px 2px rgba(0, 0, 0, 0.3));\n",
              "      fill: #FFFFFF;\n",
              "    }\n",
              "  </style>\n",
              "\n",
              "      <script>\n",
              "        const buttonEl =\n",
              "          document.querySelector('#df-6d4da54a-6702-41b0-9c56-d5503b41c983 button.colab-df-convert');\n",
              "        buttonEl.style.display =\n",
              "          google.colab.kernel.accessAllowed ? 'block' : 'none';\n",
              "\n",
              "        async function convertToInteractive(key) {\n",
              "          const element = document.querySelector('#df-6d4da54a-6702-41b0-9c56-d5503b41c983');\n",
              "          const dataTable =\n",
              "            await google.colab.kernel.invokeFunction('convertToInteractive',\n",
              "                                                     [key], {});\n",
              "          if (!dataTable) return;\n",
              "\n",
              "          const docLinkHtml = 'Like what you see? Visit the ' +\n",
              "            '<a target=\"_blank\" href=https://colab.research.google.com/notebooks/data_table.ipynb>data table notebook</a>'\n",
              "            + ' to learn more about interactive tables.';\n",
              "          element.innerHTML = '';\n",
              "          dataTable['output_type'] = 'display_data';\n",
              "          await google.colab.output.renderOutput(dataTable, element);\n",
              "          const docLink = document.createElement('div');\n",
              "          docLink.innerHTML = docLinkHtml;\n",
              "          element.appendChild(docLink);\n",
              "        }\n",
              "      </script>\n",
              "    </div>\n",
              "  </div>\n",
              "  "
            ]
          },
          "metadata": {},
          "execution_count": 16
        }
      ]
    },
    {
      "cell_type": "code",
      "source": [
        "merged_df.info()"
      ],
      "metadata": {
        "colab": {
          "base_uri": "https://localhost:8080/"
        },
        "id": "zlZbpBGXPd5q",
        "outputId": "ae4960bb-41f7-4902-f7cc-2df284e517f8"
      },
      "execution_count": 17,
      "outputs": [
        {
          "output_type": "stream",
          "name": "stdout",
          "text": [
            "<class 'pandas.core.frame.DataFrame'>\n",
            "Int64Index: 57173 entries, 0 to 57172\n",
            "Data columns (total 20 columns):\n",
            " #   Column                Non-Null Count  Dtype \n",
            "---  ------                --------------  ----- \n",
            " 0   event_timestamp_x     57173 non-null  int64 \n",
            " 1   interaction_type_x    57173 non-null  object\n",
            " 2   item_id               57173 non-null  int64 \n",
            " 3   consumer_id           57173 non-null  int64 \n",
            " 4   consumer_session_id   57173 non-null  object\n",
            " 5   consumer_device_info  57173 non-null  object\n",
            " 6   consumer_location     57173 non-null  object\n",
            " 7   country               57173 non-null  object\n",
            " 8   event_timestamp_y     57173 non-null  int64 \n",
            " 9   interaction_type_y    57173 non-null  object\n",
            " 10  producer_id           57173 non-null  int64 \n",
            " 11  producer_session_id   57173 non-null  int64 \n",
            " 12  producer_device_info  15211 non-null  object\n",
            " 13  producer_location     15211 non-null  object\n",
            " 14  producer_country      15211 non-null  object\n",
            " 15  item_type             57173 non-null  object\n",
            " 16  item_url              57173 non-null  object\n",
            " 17  title                 57173 non-null  object\n",
            " 18  text_description      57173 non-null  object\n",
            " 19  language              57173 non-null  object\n",
            "dtypes: int64(6), object(14)\n",
            "memory usage: 9.2+ MB\n"
          ]
        }
      ]
    },
    {
      "cell_type": "code",
      "source": [
        "# dropping few columns which has a lot of null data and we don't have a way to feed those.\n",
        "merged_df.drop(columns=[\"producer_device_info\", \"producer_location\", \"producer_country\"], inplace=True)"
      ],
      "metadata": {
        "id": "cgpVqHoIPmCe"
      },
      "execution_count": 18,
      "outputs": []
    },
    {
      "cell_type": "code",
      "source": [
        "merged_df.info()"
      ],
      "metadata": {
        "colab": {
          "base_uri": "https://localhost:8080/"
        },
        "id": "MF83WbB_o9LB",
        "outputId": "94798574-e57e-4fe4-b3b9-35b49f2c9d67"
      },
      "execution_count": 19,
      "outputs": [
        {
          "output_type": "stream",
          "name": "stdout",
          "text": [
            "<class 'pandas.core.frame.DataFrame'>\n",
            "Int64Index: 57173 entries, 0 to 57172\n",
            "Data columns (total 17 columns):\n",
            " #   Column                Non-Null Count  Dtype \n",
            "---  ------                --------------  ----- \n",
            " 0   event_timestamp_x     57173 non-null  int64 \n",
            " 1   interaction_type_x    57173 non-null  object\n",
            " 2   item_id               57173 non-null  int64 \n",
            " 3   consumer_id           57173 non-null  int64 \n",
            " 4   consumer_session_id   57173 non-null  object\n",
            " 5   consumer_device_info  57173 non-null  object\n",
            " 6   consumer_location     57173 non-null  object\n",
            " 7   country               57173 non-null  object\n",
            " 8   event_timestamp_y     57173 non-null  int64 \n",
            " 9   interaction_type_y    57173 non-null  object\n",
            " 10  producer_id           57173 non-null  int64 \n",
            " 11  producer_session_id   57173 non-null  int64 \n",
            " 12  item_type             57173 non-null  object\n",
            " 13  item_url              57173 non-null  object\n",
            " 14  title                 57173 non-null  object\n",
            " 15  text_description      57173 non-null  object\n",
            " 16  language              57173 non-null  object\n",
            "dtypes: int64(6), object(11)\n",
            "memory usage: 7.9+ MB\n"
          ]
        }
      ]
    },
    {
      "cell_type": "code",
      "source": [
        "import nltk\n",
        "from nltk.corpus import stopwords\n",
        "from sklearn.metrics.pairwise import linear_kernel\n",
        "from sklearn.feature_extraction.text import CountVectorizer\n",
        "from sklearn.feature_extraction.text import TfidfVectorizer\n",
        "from nltk.tokenize import RegexpTokenizer\n",
        "import re\n",
        "import string\n",
        "import random\n",
        "\n",
        "nltk.download(\"stopwords\")"
      ],
      "metadata": {
        "colab": {
          "base_uri": "https://localhost:8080/"
        },
        "id": "iwBOrfGmuPHI",
        "outputId": "29bb7b36-ac5d-4a3d-d289-8f613ebe60fb"
      },
      "execution_count": 20,
      "outputs": [
        {
          "output_type": "stream",
          "name": "stderr",
          "text": [
            "[nltk_data] Downloading package stopwords to /root/nltk_data...\n",
            "[nltk_data]   Package stopwords is already up-to-date!\n"
          ]
        },
        {
          "output_type": "execute_result",
          "data": {
            "text/plain": [
              "True"
            ]
          },
          "metadata": {},
          "execution_count": 20
        }
      ]
    },
    {
      "cell_type": "code",
      "source": [
        "# Utility function for removing NonAscii characters\n",
        "\n",
        "# Function for converting into lower case\n",
        "def make_lower_case(text):\n",
        "    return text.lower()\n",
        "\n",
        "# Function for removing stop words\n",
        "def remove_stop_words(text):\n",
        "    text = text.split()\n",
        "    stops = set(stopwords.words(\"english\"))\n",
        "    text = [w for w in text if not w in stops]\n",
        "    texts = [w for w in text if w.isalpha()]\n",
        "    texts = \" \".join(texts)\n",
        "    return texts\n",
        "\n",
        "# Function for removing punctuation\n",
        "def remove_punctuation(text):\n",
        "    tokenizer = RegexpTokenizer(r'\\w+')\n",
        "    text = tokenizer.tokenize(text)\n",
        "    text = \" \".join(text)\n",
        "    return text\n",
        "\n",
        "# Function for removing the html tags\n",
        "def remove_html(text):\n",
        "    html_pattern = re.compile('<.*?>')\n",
        "    return html_pattern.sub(r'', text)"
      ],
      "metadata": {
        "id": "tC1S2Z8QpC_C"
      },
      "execution_count": 21,
      "outputs": []
    },
    {
      "cell_type": "code",
      "source": [
        "# clean the text_description\n",
        "\n",
        "# see how it looks\n",
        "\n",
        "merged_df[\"text_description\"][0]"
      ],
      "metadata": {
        "colab": {
          "base_uri": "https://localhost:8080/",
          "height": 268
        },
        "id": "kGFwCHKPuTF8",
        "outputId": "473f0401-4c2b-4c38-e6c0-5f96f7cbd7d3"
      },
      "execution_count": 22,
      "outputs": [
        {
          "output_type": "execute_result",
          "data": {
            "text/plain": [
              "'Summary: Hero images, carousels, fat footers, video, minimalist design, and responsive navigation, are among some of the top feature trends of the best intranets of 2016. We even see a revival of online help that\\'s actually helpful to employees exploring new features or attempting complex tasks. Each winning intranet has its own style, feature set, and personality, unique and special in its own way. But, great minds do think alike, and some themes and features are common in multiple or all of the winning intranets in our Intranet Design Annual 2016 . The 10 best-designed intranets for 2016 may be leading-edge cases, but the trends in their design should spread to more mainstream intranets in the next few years. Although every intranet feature won\\'t work well at every organization, feature trends from outstanding intranets can inspire your intranet redesign. Stay ahead of the curve and consider taking on some of the following intranet design trends now: Help and tutorials Simple, minimalist-looking design Better photos Search evolution Carousels and heroes Fat footers Left-side navigation Social features targeted at particular topics or groups Video Business communication Help and Tutorials After many years of being chastised for being unhelpful, online help went out of fashion. This was reinforced by the idea that an interface should stand on its own, and not need help to be usable. This year, however, we saw a resurgence of Help that is helpful. While the winning-intranets\\' mostly employ nice-and-easy user interfaces, occasional more-involved or new interface elements do benefit from well-designed help. Help features can aid in discoverability of functionality, and expedite employees\\' learning and understanding of the intranet and its capabilities. At Intermountain Healthcare, employees who need a little assistance can refer to the Help section in the right rail. Similarly, The Co-operators provides thorough, wide-ranging guidance about how to make the most of its intranet. Simple, Minimalist-Looking Design The \" flat and boxy\" designs prevalent in years past are much less pronounced this year. Most of the designs, however, continue to boast a simple, sometimes minimalist , aesthetic. Some designs, such as those from Enbridge; Repsol; and Cadwalader, Wickersham & Taft, use generous white space. Intermountain Healthcare, NAV CANADA, Swedish Parliament, and (to a lesser degree) American Cancer Society all use rectangles for a boxy, easy-to-scan design. Better Photos Whether it indicates a strong commitment to photography , more people sharing photos, or simply today\\'s better phone cameras, the photographs on the winning intranets are quite engaging. Photos typically relate strongly to the material they accompany and often show employees doing their work. For example, the Enbridge site shows an employee evaluating a particular job site. DORMA shows two employees joking around. Search Evolution Intranet search is a lion that the best intranets tame . The evolution of search on this year\\'s winning sites is impressive. To enhance its intranet search, Cadwalader, Wickersham & Taft consolidates data sources to produce a single point of entry to knowledge resources. Salini Impregilo\\'s search, which appears on every page, allows employees to search the entire intranet for news, people , projects, and documents. Carousels and Heroes Although the carousel is still a prominent feature on winning intranets, the hero is making a comeback. Some organizations, such as NAV CANADA and Repsol, still opt for multiple images and statements in one area, while others, such as Salini Impregilo and Intermountain Healthcare prefer one hero image to make the desired statement. Fat Footers Large footers at the bottom of pages became popular a few years ago and remain common today. Employees often know that the information they\\'re seeking is on the intranet, but they can\\'t always find it. When using a public-facing website, people may have the option to leave the site, and will. But employees often know that the intranet is the main source or the only place to turn to to find particular content. Providing organized links at the bottom of pages provides employees with one more chance to locate what they need. The content in these footers can be arranged in many different ways: repeat the global navigation suggest related content present popular links On the NAV CANADA intranet, the wide footer navigation repeats the global navigation topics and offers a list of the megamenu links. The Enbridge footer includes links to the public sites of Enbridge companies and information for contacting the Enterprise Service Desk. It also lists Ethics and Conduct information, along with a reminder: \" Let\\'s work together to maintain a respectful workplace .\" All of these visually use an obvious aesthetic element to indicate the footer; this element can be: colored background that is different from that of the rest of the page border (line) delineating the footer from the page content combination of the above Side Global Navigation Because mega menus don\\'t work in a phone UI, designers often use a mega menu for desktop navigation , and an accordion or some other option for mobile navigation . Some teams opt for menu UIs that translate easily from desktop to mobile . One such pattern popular this year is the vertical navigation bar down the left side of the page. The Swedish Parliament and Cadwalader, Wickersham & Taft are among the winning organizations that follow this navigation pattern. Targeted Social A great trend from past years continues this year: presenting social tools in an understandable, targeted way. Gone are the days of displaying a wall feed on the homepage or in personal profiles with no additional description or context. Great intranets use social features to encourage further communication about important or trending topics. DORMA\\'s CEO participates in the social features, leading employees by example and playing a big role in the social features\\' success. Two major company events occurred near the features\\' launch; these events provided a source of content, increased interest, and natural momentum for success. The Cadwalader, Wickersham & Taft intranet lists recent hires and employee anniversaries on the homepage. Such seemingly simple features can go a long way toward building a sense of community and inclusiveness in an organization. The Co-operators offers a variety of social features, including the weekly Five Minutes With ... (an employee-profiles feature), polls, achievements, Popular Links , and the ability for users to submit news. Also, in the site\\'s executive blogs, senior leaders share their knowledge and opinions and ask employees to do the same. The Trending Now section on the American Cancer Society intranet summarizes the site resources, search terms, and pages that receive the most traffic. This section is a simple and automated way to keep users informed of the site\\'s most popular items. Enbridge employees can easily access the company\\'s public information on social sites - including Twitter, Facebook, LinkedIn, and YouTube - via links in the middle of the homepage. This section also includes a link to the @enbridge blog. Providing quick access to external sites raises employee awareness about information that Enbridge is sharing with the public and about the conversations occurring on social-media sites. Video Tools to create, edit, and post videos have made them accessible and easy to deal with. Prevalence in social channels has lowered the expectation for high-quality video production . In fact, many people welcome the simplicity and folksiness of more realistic, just-shot-myself type of videos. With these changes, individuals, teams, and even high-level managers are taking advantage of video and sharing information in this way. Videos are often stored in their own section of the intranet, which allows employees to sort, filter, and search by topic. But videos, like written content, are also presented on the homepage, in news sections, and cross linked from related contend. Business Communication Business people have learned that the intranet is the perfect place to communicate their goals and statuses to all employees. This information helps employees realize how the organization is doing and motivates them to work toward and achieve organizational goals. It also adds a level of respect, signaling to all employees that they are important enough to know where the organization has set it sights, and that that each person can play positive a role in those plans. Conclusion Whether your organization is large or small; formal or informal; public, private or government; consider which of the trends here can be implemented, deployed, and used successfully on your intranet. Choose a few to do over the next year to enhance the user experience, and increase the business value of your intranet. Full Report For more information about themes, intranet best practices, and full-color screenshots of the 10 winners, download the 2016 Intranet Design Annual . The report download comes with a folder containing each image as a .png to make it possible to zoom in and study the designs in detail.'"
            ],
            "application/vnd.google.colaboratory.intrinsic+json": {
              "type": "string"
            }
          },
          "metadata": {},
          "execution_count": 22
        }
      ]
    },
    {
      "cell_type": "code",
      "source": [
        "merged_df[\"cleaned_text_description\"] = merged_df[\"text_description\"].apply(func = make_lower_case)\n",
        "merged_df[\"cleaned_text_description\"] = merged_df.cleaned_text_description.apply(func=remove_stop_words)"
      ],
      "metadata": {
        "id": "y6s-6ioMujQk"
      },
      "execution_count": 23,
      "outputs": []
    },
    {
      "cell_type": "code",
      "source": [
        "merged_df[\"cleaned_text_description\"] = merged_df.cleaned_text_description.apply(func=remove_punctuation)\n",
        "merged_df[\"cleaned_text_description\"] = merged_df.cleaned_text_description.apply(func=remove_html)"
      ],
      "metadata": {
        "id": "Ptcdimfrvc0K"
      },
      "execution_count": 24,
      "outputs": []
    },
    {
      "cell_type": "code",
      "source": [
        "merged_df[\"cleaned_text_description\"][0]"
      ],
      "metadata": {
        "colab": {
          "base_uri": "https://localhost:8080/",
          "height": 268
        },
        "id": "8uHSR8J50H4x",
        "outputId": "04bc2cf6-4b38-4fa8-8043-bd463478ff40"
      },
      "execution_count": 25,
      "outputs": [
        {
          "output_type": "execute_result",
          "data": {
            "text/plain": [
              "'hero fat minimalist responsive among top feature trends best intranets even see revival online help actually helpful employees exploring new features attempting complex winning intranet feature unique special great minds think themes features common multiple winning intranets intranet design annual intranets may trends design spread mainstream intranets next although every intranet feature work well every feature trends outstanding intranets inspire intranet stay ahead curve consider taking following intranet design trends help tutorials design better photos search evolution carousels heroes fat footers navigation social features targeted particular topics groups video business communication help tutorials many years chastised online help went reinforced idea interface stand need help saw resurgence help mostly employ user occasional new interface elements benefit help features aid discoverability expedite learning understanding intranet intermountain employees need little assistance refer help section right provides guidance make design flat designs prevalent years past much less pronounced continue boast sometimes minimalist wickersham use generous white intermountain nav swedish lesser american cancer society use rectangles better photos whether indicates strong commitment photography people sharing simply better phone photographs winning intranets quite photos typically relate strongly material accompany often show employees enbridge site shows employee evaluating particular job dorma shows two employees joking search evolution intranet search lion best intranets tame evolution search winning sites enhance intranet wickersham taft consolidates data sources produce single point entry knowledge salini appears every allows employees search entire intranet people carousels heroes although carousel still prominent feature winning hero making nav canada still opt multiple images statements one salini impregilo intermountain healthcare prefer one hero image make desired fat footers large footers bottom pages became popular years ago remain common employees often know information seeking always find using people may option leave employees often know intranet main source place turn find particular providing organized links bottom pages provides employees one chance locate content footers arranged many different repeat global navigation suggest related content present popular links nav canada wide footer navigation repeats global navigation topics offers list megamenu enbridge footer includes links public sites enbridge companies information contacting enterprise service also lists ethics conduct along work together maintain respectful workplace visually use obvious aesthetic element indicate element colored background different rest page border delineating footer page content combination side global navigation mega menus work phone designers often use mega menu desktop navigation accordion option mobile navigation teams opt menu uis translate easily desktop mobile one pattern popular year vertical navigation bar left side swedish parliament wickersham taft among winning organizations follow navigation targeted social great trend past years continues presenting social tools targeted gone days displaying wall feed homepage personal profiles additional description great intranets use social features encourage communication important trending ceo participates social leading employees example playing big role social two major company events occurred near events provided source increased natural momentum wickersham taft intranet lists recent hires employee anniversaries seemingly simple features go long way toward building sense community inclusiveness offers variety social including weekly five minutes popular links ability users submit executive senior leaders share knowledge opinions ask employees trending section american cancer society intranet summarizes site search pages receive section simple automated way keep users informed popular enbridge employees easily access public information social sites including youtube via links middle section also includes link providing quick access external sites raises employee awareness information enbridge sharing public conversations occurring video tools post videos made accessible easy deal prevalence social channels lowered expectation video production many people welcome simplicity folksiness type even managers taking advantage video sharing information videos often stored section allows employees search like written also presented news cross linked related business communication business people learned intranet perfect place communicate goals statuses information helps employees realize organization motivates work toward achieve organizational also adds level signaling employees important enough know organization set person play positive role conclusion whether organization large formal private consider trends used successfully choose next year enhance user increase business value full report information intranet best screenshots download intranet design annual report download comes folder containing image make possible zoom study designs'"
            ],
            "application/vnd.google.colaboratory.intrinsic+json": {
              "type": "string"
            }
          },
          "metadata": {},
          "execution_count": 25
        }
      ]
    },
    {
      "cell_type": "code",
      "source": [],
      "metadata": {
        "id": "YC4fKNg30LSM"
      },
      "execution_count": 25,
      "outputs": []
    },
    {
      "cell_type": "markdown",
      "source": [
        "# Content based recommendation"
      ],
      "metadata": {
        "id": "StV4pnNQ0r78"
      }
    },
    {
      "cell_type": "markdown",
      "source": [
        "### Encoding data"
      ],
      "metadata": {
        "id": "lisrZzQr10MH"
      }
    },
    {
      "cell_type": "markdown",
      "source": [
        "There are a number of popular encoding schemes but the main ones are:\n",
        "\n",
        "1.   One-hot encoding\n",
        "2.   Term frequency–inverse document frequency (TF-IDF) encoding\n",
        "3. Word embeddings . For our example, we will use the term frequency–inverse document frequency (TF-IDF) encoding scheme.\n",
        "\n",
        "\n",
        "\n"
      ],
      "metadata": {
        "id": "_bYJojOV163N"
      }
    },
    {
      "cell_type": "markdown",
      "source": [
        "We will do this for platform content df."
      ],
      "metadata": {
        "id": "KfNjZSYS8qDE"
      }
    },
    {
      "cell_type": "code",
      "source": [
        "# clean the text_description\n",
        "\n",
        "# see how it looks\n",
        "\n",
        "platform_content_data[\"text_description\"][0]"
      ],
      "metadata": {
        "colab": {
          "base_uri": "https://localhost:8080/",
          "height": 268
        },
        "id": "DQhdCor98t_t",
        "outputId": "5d353f1e-3dbc-44c7-b405-4be530d457fa"
      },
      "execution_count": 26,
      "outputs": [
        {
          "output_type": "execute_result",
          "data": {
            "text/plain": [
              "'All of this work is still very early. The first full public version of the Ethereum software was recently released, and the system could face some of the same technical and legal problems that have tarnished Bitcoin. Many Bitcoin advocates say Ethereum will face more security problems than Bitcoin because of the greater complexity of the software. Thus far, Ethereum has faced much less testing, and many fewer attacks, than Bitcoin. The novel design of Ethereum may also invite intense scrutiny by authorities given that potentially fraudulent contracts, like the Ponzi schemes, can be written directly into the Ethereum system. But the sophisticated capabilities of the system have made it fascinating to some executives in corporate America. IBM said last year that it was experimenting with Ethereum as a way to control real world objects in the so-called Internet of things. Microsoft has been working on several projects that make it easier to use Ethereum on its computing cloud, Azure. \"Ethereum is a general platform where you can solve problems in many industries using a fairly elegant solution - the most elegant solution we have seen to date,\" said Marley Gray, a director of business development and strategy at Microsoft. Mr. Gray is responsible for Microsoft\\'s work with blockchains, the database concept that Bitcoin introduced. Blockchains are designed to store transactions and data without requiring any central authority or repository. Blockchain ledgers are generally maintained and updated by networks of computers working together - somewhat similar to the way that Wikipedia is updated and maintained by all its users. Many corporations, though, have created their own Ethereum networks with private blockchains, independent of the public system, and that could ultimately detract from the value of the individual unit in the Ethereum system - known as an Ether - that people have recently been buying. The interest in Ethereum is one sign of the corporate fascination with blockchains. Most major banks have expressed an interest in using them to make trading and money transfer faster and more efficient. On Tuesday, executives from the largest banks will gather for a conference, \"Blockchain: Tapping I nto the Real Potential , Cutting Through the Hype.\" Many of these banks have recently been looking at how some version of Ethereum might be put to use. JPMorgan, for instance, has created a specific tool, Masala, that allows some of its internal databases to interact with an Ethereum blockchain. Michael Novogratz, a former top executive at the private equity firm Fortress Investing Group, who helped lead Fortress\\'s investment in Bitcoin, has been looking at Ethereum since he left Fortress last fall. Mr. Novogratz said that he made a \"significant\" purchase of Ether in January. He has also heard how the financial industry\\'s chatter about the virtual currency has evolved. \"A lot of the more established players were thinking, \\'It\\'s still an experiment,\\' \" he said. \"It feels like in the last two to three months that experiment is at least getting a lot more validation.\" Since the beginning of the year, the value of an individual unit of Ether has soared as high as $12 from around $1. That has brought the value of all existing Ether to over $1 billion at times, significantly more than any virtual currency other than Bitcoin, which had over $6 billion in value outstanding last week. Since Bitcoin was invented, there have been many so-called alt-coins that have tried to improve on Bitcoin, but none have won the following of Ethereum. Unlike Bitcoin, which was released in 2009 by a mysterious creator known as Satoshi Nakamoto, Ethereum was created in a more transparent fashion by a 21-year-old Russian-Canadian, Vitalik Buterin, after he dropped out of Waterloo University in Ontario. The most basic aim of Ethereum was to make it possible to program binding agreements into the blockchain - the smart contract concept. Two people, for instance, could program a bet on a sports game directly into the Ethereum blockchain. Once the final score came in from a mutually agreed upon source - say, The Associated Press - the money would be automatically transferred to the winning party. Ether can be used as a currency in this system, but Ether are also necessary to pay for the network power needed to process the bet. The Ethereum system has sometimes been described as a single shared computer that is run by the network of users and on which resources are parceled out and paid for by Ether. A team of seven co-founders helped Mr. Buterin write up the software after he released the initial description of the system. Mr. Buterin\\'s team raised $18 million in 2014 through a presale of Ether, which helped fund the Ethereum Foundation, which supports the software\\'s development. Like Bitcoin, Ethereum has succeeded by attracting a dedicated network of followers who have helped support the software, partly in the hope that their Ether will increase in value if the system succeeds. Last week, there were 5,800 computers - or nodes - helping support the network around the world. The Bitcoin network had about 7,400 nodes. One of Mr. Buterin\\'s co-founders, Joseph Lubin, has set up ConsenSys, a company based in Brooklyn that has hired over 50 developers to build applications on the Ethereum system, including one that enables music distribution and another that allows for a new kind of financial auditing. The ConsenSys offices are in an old industrial building in the Bushwick section of Brooklyn. The office is essentially one large room, with all the messy trademarks of a start-up operation, including white boards on the walls and computer parts lying around. Mr. Lubin said he had thrown himself into Ethereum after starting to think that it delivered on some of the failed promise of Bitcoin, especially when it came to allowing new kinds of online contracts and markets. \"Bitcoin presented the broad strokes vision, and Ethereum presented the crystallization of how to deliver that vision,\" he said. Joseph Bonneau, a computer science researcher at Stanford who studies so-called crypto-currencies, said Ethereum was the first system that had really caught his interest since Bitcoin. It is far from a sure thing, he cautioned. \"Bitcoin is still probably the safest bet, but Ethereum is certainly No. 2, and some folks will say it is more likely to be around in 10 years,\" Mr. Bonneau said. \"It will depend if any real markets develop around it. If there is some actual application.\"'"
            ],
            "application/vnd.google.colaboratory.intrinsic+json": {
              "type": "string"
            }
          },
          "metadata": {},
          "execution_count": 26
        }
      ]
    },
    {
      "cell_type": "code",
      "source": [
        "platform_content_data[\"cleaned_text_description\"] = platform_content_data[\"text_description\"].apply(func = make_lower_case)\n",
        "platform_content_data[\"cleaned_text_description\"] = platform_content_data.cleaned_text_description.apply(func=remove_stop_words)\n",
        "platform_content_data[\"cleaned_text_description\"] = platform_content_data.cleaned_text_description.apply(func=remove_punctuation)\n",
        "platform_content_data[\"cleaned_text_description\"] = platform_content_data.cleaned_text_description.apply(func=remove_html)"
      ],
      "metadata": {
        "id": "lRMrHepV9SYE"
      },
      "execution_count": 27,
      "outputs": []
    },
    {
      "cell_type": "code",
      "source": [
        "import pandas as pd\n",
        "from sklearn.feature_extraction.text import TfidfVectorizer\n",
        "from sklearn.metrics.pairwise import linear_kernel\n",
        "\n",
        "## analyzer -- to select individual words# default \n",
        "## max_df[0.0,1.0] - used to ignore words with frequency more than 0.8 these words can be useless words as these words may appear only once and may not have a significant meaning\n",
        "## min_df -- similar reason as the above one. \n",
        "## use_idfbool, default=True  -- Enable inverse-document-frequency reweighting.\n",
        "\n",
        "tf = TfidfVectorizer(analyzer='word',stop_words='english',max_df=0.8,min_df=0.0,use_idf=True,ngram_range=(1,3))\n",
        "tfidf_matrix = tf.fit_transform(platform_content_data[\"cleaned_text_description\"])"
      ],
      "metadata": {
        "id": "9BwZ03OC0vdx"
      },
      "execution_count": 28,
      "outputs": []
    },
    {
      "cell_type": "markdown",
      "source": [
        "**Now, we have a representation of every item in terms of its description. Next, we need to calculate the relevance or similarity of one document to another.**\n",
        "### Vector Space Model\n",
        "In this model, each item is stored as a vector of its attributes (which are also vectors) in an n-dimensional space, and the angles between the vectors are calculated to determine the similarity between the vectors.\n",
        "\n",
        "The method of calculating the user’s likes / dislikes / measures is calculated by taking the cosine of the angle between the user profile vector (Ui ) and the document vector; or in our case, the angle between two document vectors.\n",
        "\n",
        "The ultimate reason behind using cosine is that the value of cosine will increase as the angle between vectors with decreases, which signifies more similarity.\n"
      ],
      "metadata": {
        "id": "tRjP0kGp5lQ-"
      }
    },
    {
      "cell_type": "code",
      "source": [
        "cosine_similarities = linear_kernel(tfidf_matrix, tfidf_matrix)"
      ],
      "metadata": {
        "id": "eQj8JaWS14e-"
      },
      "execution_count": 29,
      "outputs": []
    },
    {
      "cell_type": "code",
      "source": [
        "platform_content_data.info()"
      ],
      "metadata": {
        "colab": {
          "base_uri": "https://localhost:8080/"
        },
        "id": "Of29d9Lc_ZUd",
        "outputId": "064ddf7b-1c46-42d4-e026-d235554e1348"
      },
      "execution_count": 30,
      "outputs": [
        {
          "output_type": "stream",
          "name": "stdout",
          "text": [
            "<class 'pandas.core.frame.DataFrame'>\n",
            "RangeIndex: 3122 entries, 0 to 3121\n",
            "Data columns (total 14 columns):\n",
            " #   Column                    Non-Null Count  Dtype \n",
            "---  ------                    --------------  ----- \n",
            " 0   event_timestamp           3122 non-null   int64 \n",
            " 1   interaction_type          3122 non-null   object\n",
            " 2   item_id                   3122 non-null   int64 \n",
            " 3   producer_id               3122 non-null   int64 \n",
            " 4   producer_session_id       3122 non-null   int64 \n",
            " 5   producer_device_info      680 non-null    object\n",
            " 6   producer_location         680 non-null    object\n",
            " 7   producer_country          680 non-null    object\n",
            " 8   item_type                 3122 non-null   object\n",
            " 9   item_url                  3122 non-null   object\n",
            " 10  title                     3122 non-null   object\n",
            " 11  text_description          3122 non-null   object\n",
            " 12  language                  3122 non-null   object\n",
            " 13  cleaned_text_description  3122 non-null   object\n",
            "dtypes: int64(4), object(10)\n",
            "memory usage: 341.6+ KB\n"
          ]
        }
      ]
    },
    {
      "cell_type": "markdown",
      "source": [
        "**A recommender system has to decide between two methods for information delivery when providing the user with recommendations:**\n",
        "\n",
        "#### Exploitation. The system chooses documents similar to those for which the user has already expressed a preference.\n",
        "#### Exploration. The system chooses documents where the user profile does not provide evidence to predict the user’s reaction.\n",
        "\n",
        "#### We are going to use Exploitation method"
      ],
      "metadata": {
        "id": "K4sbvTvn6Zl-"
      }
    },
    {
      "cell_type": "code",
      "source": [
        "def recomendation(idx,no_of_news_article):\n",
        "    #get similarity values with other articles\n",
        "    similarity_score = list(enumerate(cosine_similarities[idx]))\n",
        "    similarity_score = sorted(similarity_score, key=lambda x: x[1], reverse=True)\n",
        "    # Get the scores of the n most similar news articles. Ignore the first movie.\n",
        "    similarity_score = similarity_score[1:no_of_news_article+1]\n",
        "    \n",
        "    print(\"Article Read -- \" + platform_content_data['title'].iloc[idx] +\" link --\"+ platform_content_data['item_url'].iloc[idx])\n",
        "    print(\" ---------------------------------------------------------- \")\n",
        "    news_indices = [i[0] for i in similarity_score]\n",
        "    for i in range(len(news_indices)):\n",
        "        print(\"Recomendation \"+ str(i+1)+\" --- \" +str(news_indices[i])+\"(IDX)  \"+str(platform_content_data['event_timestamp'].iloc[news_indices[i]])+\" : \"+\n",
        "              platform_content_data['title'].iloc[news_indices[i]] +\" || Link --\"+ platform_content_data['item_url'].iloc[news_indices[i]] +\" score -- \"+ str(similarity_score[i][1]))\n",
        "        print()"
      ],
      "metadata": {
        "id": "bv9fCY2C3hGP"
      },
      "execution_count": 31,
      "outputs": []
    },
    {
      "cell_type": "code",
      "source": [
        "idx=3  #min_df=0.2 shape 1496 rows × 31 columns\n",
        "no_of_news_article=10\n",
        "recomendation(idx,no_of_news_article)"
      ],
      "metadata": {
        "colab": {
          "base_uri": "https://localhost:8080/"
        },
        "id": "iTCzFuqM_q9W",
        "outputId": "e43c9f6f-737d-415c-bdda-1c8f33c8b634"
      },
      "execution_count": 32,
      "outputs": [
        {
          "output_type": "stream",
          "name": "stdout",
          "text": [
            "Article Read -- Google Data Center 360° Tour link --https://cloudplatform.googleblog.com/2016/03/Google-Data-Center-360-Tour.html\n",
            " ---------------------------------------------------------- \n",
            "Recomendation 1 --- 248(IDX)  1460024423 : Google Cloud Platform: The smart person's guide - TechRepublic || Link --http://www.techrepublic.com/article/google-cloud-platform-the-smart-persons-guide/ score -- 0.13843110093735353\n",
            "\n",
            "Recomendation 2 --- 142(IDX)  1459520669 : Google shares data center security and design best practices || Link --https://cloudplatform.googleblog.com/2016/03/Google-shares-data-center-security-and-design-best-practices.html score -- 0.11401449199331638\n",
            "\n",
            "Recomendation 3 --- 85(IDX)  1459367829 : Google Cloud Platform for AWS Professionals || Link --https://cloud.google.com/docs/google-cloud-platform-for-aws-professionals score -- 0.08904227416288107\n",
            "\n",
            "Recomendation 4 --- 547(IDX)  1461344060 : Top 5 GCP NEXT breakout sessions on YouTube (so far) || Link --https://cloudplatform.googleblog.com/2016/04/top-5-GCP-NEXT-breakout-sessions-on-YouTube-so-far.html score -- 0.0788522617108547\n",
            "\n",
            "Recomendation 5 --- 100(IDX)  1459391011 : Spotify chooses Google Cloud Platform to power data infrastructure || Link --https://cloudplatform.googleblog.com/2016/02/Spotify-chooses-Google-Cloud-Platform-to-power-data-infrastructure.html score -- 0.0787674503472913\n",
            "\n",
            "Recomendation 6 --- 79(IDX)  1459361227 : Google admits original enterprise cloud strategy was wrong, why it's gone in a different direction - TechRepublic || Link --http://www.techrepublic.com/article/google-admits-original-enterprise-cloud-strategy-was-wrong-why-its-gone-in-a-different/ score -- 0.07828096977593724\n",
            "\n",
            "Recomendation 7 --- 1224(IDX)  1464883538 : Feeding 10 billion people with cloud computing: Land O'Lakes, Inc. moves to Google Cloud Platform || Link --https://cloudplatform.googleblog.com/2016/05/feeding-10-billion-people-with-cloud-computing-Land-O-Lakes-Inc-moves-to-Google-Cloud-Platform.html score -- 0.07780842205387897\n",
            "\n",
            "Recomendation 8 --- 3051(IDX)  1486127884 : 8 must-see sessions for application developers at Google Cloud Next '17 || Link --https://cloudplatform.googleblog.com/2017/02/9-must-see-sessions-for-application-developers-at-Google-Cloud-Next-17.html score -- 0.07711577813330531\n",
            "\n",
            "Recomendation 9 --- 676(IDX)  1461939858 : This year's Founders' Letter || Link --https://googleblog.blogspot.com.br/2016/04/this-years-founders-letter.html score -- 0.07250334820497685\n",
            "\n",
            "Recomendation 10 --- 884(IDX)  1462918156 : Google I/O 2016 Preview: A Chrome/Android merger? Project Tango? VR? || Link --http://arstechnica.com/gadgets/2016/05/google-io-2016-preview-a-chromeandroid-merger-project-tango-vr/ score -- 0.06793776367148377\n",
            "\n"
          ]
        }
      ]
    },
    {
      "cell_type": "code",
      "source": [],
      "metadata": {
        "id": "ggcpXqrU_tYV"
      },
      "execution_count": null,
      "outputs": []
    }
  ]
}